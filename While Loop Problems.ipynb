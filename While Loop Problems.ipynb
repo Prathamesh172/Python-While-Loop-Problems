{
 "cells": [
  {
   "cell_type": "code",
   "execution_count": null,
   "id": "d6ac4482",
   "metadata": {},
   "outputs": [],
   "source": [
    "# Print the sum of two numbers that will result in even numbers between 1 and 1000\n",
    "\n",
    "n1 = int(input(\"Enter the first number : \"))\n",
    "n2 = int(input(\"Enter the second number : \"))\n",
    "i = n1+n2\n",
    "while i%2==0 and i in range(1,1000):\n",
    "    print(f'The even sum is {i}')\n",
    "    break"
   ]
  },
  {
   "cell_type": "code",
   "execution_count": null,
   "id": "da35f831",
   "metadata": {},
   "outputs": [],
   "source": [
    "# Write a program to take 10 numbers from the user and display its average\n",
    "\n",
    "count = 0\n",
    "l = []\n",
    "while count < 10:\n",
    "    n = int(input(\"Enter the number : \"))\n",
    "    l.append(n)\n",
    "    count = count + 1\n",
    "total = 0\n",
    "for i in range(0, len(l)):\n",
    "    total = total + l[i]\n",
    "print(total/len(l))"
   ]
  },
  {
   "cell_type": "code",
   "execution_count": null,
   "id": "57f97ee2",
   "metadata": {},
   "outputs": [],
   "source": [
    "# Write a program to print first 10 natural numbers in reverse order using while loop\n",
    "\n",
    "count = 1\n",
    "l = []\n",
    "while count < 11:\n",
    "    l.append(count)\n",
    "    count = count + 1\n",
    "l[::-1]"
   ]
  },
  {
   "cell_type": "code",
   "execution_count": null,
   "id": "a948d91c",
   "metadata": {},
   "outputs": [],
   "source": [
    "# Write a program to enter the numbers till the user enters ZERO and at the end it should display the count of positive and negative numbers entered\n",
    "\n",
    "p_count = 0\n",
    "n_count = 0\n",
    "a = int(input('Enter a number (0 to quit): '))\n",
    "while a != 0:\n",
    "    if a > 0:\n",
    "        p_count = p_count + 1\n",
    "    elif a < 0:\n",
    "        n_count = n_count + 1\n",
    "    a = int(input(\"Enter a number (0 to quit): \"))\n",
    "print(\"Positive count:\", p_count)\n",
    "print(\"Negative count:\", n_count)"
   ]
  },
  {
   "cell_type": "markdown",
   "id": "0ead7200",
   "metadata": {},
   "source": [
    "## "
   ]
  },
  {
   "cell_type": "code",
   "execution_count": 6,
   "id": "c330540a",
   "metadata": {},
   "outputs": [
    {
     "name": "stdout",
     "output_type": "stream",
     "text": [
      "P\n",
      "Y\n",
      "T\n",
      "H\n",
      "O\n",
      "N\n"
     ]
    }
   ],
   "source": [
    "# Write a program to print all the characters in the string “PYTHON” using while loop\n",
    "\n",
    "p = \"PYTHON\"\n",
    "index = 0\n",
    "while index < len(p):\n",
    "    print(p[index])\n",
    "    index += 1"
   ]
  },
  {
   "cell_type": "code",
   "execution_count": 5,
   "id": "391f6203",
   "metadata": {},
   "outputs": [
    {
     "name": "stdout",
     "output_type": "stream",
     "text": [
      "Enter the last number :5\n",
      "1\n",
      "4\n",
      "9\n",
      "16\n",
      "25\n"
     ]
    }
   ],
   "source": [
    "# Write a program to print following series till n terms. 1,4,9,16,25.... n terms\n",
    "\n",
    "n = 1\n",
    "end = int(input(\"Enter the last number :\"))\n",
    "for i in range(end):\n",
    "    while i <= end:\n",
    "        print(n**2)\n",
    "        n = n+1\n",
    "        break"
   ]
  },
  {
   "cell_type": "code",
   "execution_count": 1,
   "id": "0d875945",
   "metadata": {},
   "outputs": [
    {
     "name": "stdout",
     "output_type": "stream",
     "text": [
      "23\n",
      "45\n",
      "35\n",
      "31\n",
      "77\n"
     ]
    }
   ],
   "source": [
    "# Write a program to print only odd numbers from the given list using while loop (L=[23,45,32,35,56,31,77,90])\n",
    "\n",
    "L = [23,45,32,35,56,31,77,90]\n",
    "for i in L:\n",
    "    while i%2 != 0:\n",
    "        print(i)\n",
    "        i = i + 1"
   ]
  },
  {
   "cell_type": "code",
   "execution_count": 3,
   "id": "1d5ecb42",
   "metadata": {},
   "outputs": [
    {
     "name": "stdout",
     "output_type": "stream",
     "text": [
      "Your Guess : 53\n",
      "Wrong! Better luck next time!\n",
      "The correct guess is 79\n"
     ]
    }
   ],
   "source": [
    "# Create a program that generates a random number between 1 and 100 and asks the user to guess it (Using while)\n",
    "\n",
    "import numpy as np\n",
    "from numpy import random\n",
    "n = int(input(\"Your Guess : \"))\n",
    "x = random.randint(100)\n",
    "while n!=x:\n",
    "    print(\"Wrong! Better luck next time!\")\n",
    "    break\n",
    "while n == x:\n",
    "    print(\"Yay! You got it right!\")\n",
    "print('The correct guess is',x)"
   ]
  },
  {
   "cell_type": "code",
   "execution_count": 17,
   "id": "0212efdf",
   "metadata": {},
   "outputs": [
    {
     "name": "stdout",
     "output_type": "stream",
     "text": [
      "Your Guess : 43\n",
      "Wrong! Better luck next time!\n",
      "The correct guess is 21\n"
     ]
    }
   ],
   "source": [
    "# Create a program that generates a random number between 1 and 100 and asks the user to guess it (Using if-else)\n",
    "\n",
    "import numpy as np\n",
    "from numpy import random\n",
    "n = int(input(\"Your Guess : \"))\n",
    "x = random.randint(100)\n",
    "if n!=x:\n",
    "    print(\"Wrong! Better luck next time!\")\n",
    "else:\n",
    "    print(\"Yay! You got it right!\")\n",
    "print('The correct guess is',x)"
   ]
  },
  {
   "cell_type": "code",
   "execution_count": 3,
   "id": "c282fafd",
   "metadata": {},
   "outputs": [
    {
     "name": "stdout",
     "output_type": "stream",
     "text": [
      "Enter a binary number: 0110111011\n",
      "Decimal: 443\n"
     ]
    }
   ],
   "source": [
    "# Write a program to convert binary to decimal\n",
    "\n",
    "binary = input(\"Enter a binary number: \")\n",
    "decimal = 0\n",
    "power = 0\n",
    "while binary != '':\n",
    "    bit = int(binary[-1])\n",
    "    decimal += bit * (2 ** power)\n",
    "    binary = binary[:-1]\n",
    "    power += 1\n",
    "print(\"Decimal:\", decimal)"
   ]
  },
  {
   "cell_type": "code",
   "execution_count": 4,
   "id": "be7842da",
   "metadata": {},
   "outputs": [
    {
     "name": "stdout",
     "output_type": "stream",
     "text": [
      "Enter you saving of this month : 12213\n",
      "Enter you saving of this month : 132\n",
      "Enter you saving of this month : 312\n",
      "Enter you saving of this month : 3123231132\n",
      "You can buy your phone.You took 4 months\n"
     ]
    }
   ],
   "source": [
    "# Create a savings and cost calculator\n",
    "\n",
    "phoneCost = 40000\n",
    "savings = 0\n",
    "month_counter=0\n",
    "while savings < phoneCost:\n",
    "    current_saving = int(input(\"Enter you saving of this month : \"))\n",
    "    savings += current_saving\n",
    "    month_counter +=1\n",
    "print(\"You can buy your phone.You took\",month_counter, \"months\")"
   ]
  },
  {
   "cell_type": "code",
   "execution_count": 2,
   "id": "6ad9b57a",
   "metadata": {},
   "outputs": [
    {
     "name": "stdout",
     "output_type": "stream",
     "text": [
      "Enter the time you took to run this mile: 32\n",
      "Enter the time you took to run this mile: 32\n",
      "Enter the time you took to run this mile: 4423\n",
      "Enter the time you took to run this mile: done\n"
     ]
    },
    {
     "data": {
      "text/plain": [
       "1495.6666666666667"
      ]
     },
     "execution_count": 2,
     "metadata": {},
     "output_type": "execute_result"
    }
   ],
   "source": [
    "# Write a Python program that allows you to enter the time it took to run each mile, and calculates your average pace in minutes per mile Use a while loop to keep asking for mile times until the user enters \"done\". If the user enters an invalid time (i.e. not a positive number), the program should ask for the time again.\n",
    "\n",
    "miles_run = []\n",
    "while True:\n",
    "    user_input = input(\"Enter the time you took to run this mile: \")\n",
    "    if user_input == 'done':\n",
    "        break\n",
    "    else:\n",
    "        if int(user_input) <= 0:\n",
    "            print(\"Enter a valid time\")\n",
    "            continue\n",
    "        else:\n",
    "            miles_run.append(int(user_input))\n",
    "\n",
    "sum(miles_run)/len(miles_run)"
   ]
  },
  {
   "cell_type": "code",
   "execution_count": 5,
   "id": "4f2dd3df",
   "metadata": {},
   "outputs": [
    {
     "name": "stdout",
     "output_type": "stream",
     "text": [
      "Enter your password : rewtr\n",
      "Enter your password : wreewewr\n",
      "Enter your password : rwe\n",
      "attempts exhausted\n"
     ]
    }
   ],
   "source": [
    "# Password protection problem\n",
    "\n",
    "valid_passwords = [\"password123\", \"letmein\", \"admin123\"]\n",
    "max_tries = 3\n",
    "tries = 0\n",
    "while tries < max_tries:\n",
    "    user_input = input(\"Enter your password : \")\n",
    "    if user_input in valid_passwords:\n",
    "        print(\"Login Successful\")\n",
    "        break\n",
    "    tries+=1\n",
    "    if tries == max_tries:\n",
    "        print(\"attempts exhausted\")"
   ]
  },
  {
   "cell_type": "raw",
   "id": "3b703aa9",
   "metadata": {},
   "source": []
  }
 ],
 "metadata": {
  "kernelspec": {
   "display_name": "Python 3 (ipykernel)",
   "language": "python",
   "name": "python3"
  },
  "language_info": {
   "codemirror_mode": {
    "name": "ipython",
    "version": 3
   },
   "file_extension": ".py",
   "mimetype": "text/x-python",
   "name": "python",
   "nbconvert_exporter": "python",
   "pygments_lexer": "ipython3",
   "version": "3.10.9"
  }
 },
 "nbformat": 4,
 "nbformat_minor": 5
}
